{
 "cells": [
  {
   "cell_type": "raw",
   "metadata": {},
   "source": [
    "process #pragma templet ...  in 'pingpong.cpp' file (reload the file after processing, if needed)"
   ]
  },
  {
   "cell_type": "code",
   "execution_count": 1,
   "metadata": {},
   "outputs": [
    {
     "name": "stdout",
     "output_type": "stream",
     "text": [
      "/bin/bash: line 1: /home/jovyan/bin/acta: No such file or directory\r\n"
     ]
    }
   ],
   "source": [
    "!~/bin/acta pingpong.cpp"
   ]
  },
  {
   "cell_type": "raw",
   "metadata": {},
   "source": [
    "get Everest access token using password authentication"
   ]
  },
  {
   "cell_type": "code",
   "execution_count": 2,
   "metadata": {},
   "outputs": [
    {
     "ename": "SyntaxError",
     "evalue": "invalid syntax (2199596145.py, line 4)",
     "output_type": "error",
     "traceback": [
      "\u001b[0;36m  Cell \u001b[0;32mIn[2], line 4\u001b[0;36m\u001b[0m\n\u001b[0;31m    templet::everest_engine teng(\"login\",\"password\");\u001b[0m\n\u001b[0m            ^\u001b[0m\n\u001b[0;31mSyntaxError\u001b[0m\u001b[0;31m:\u001b[0m invalid syntax\n"
     ]
    }
   ],
   "source": [
    "#pragma cling load(\"libcurl\")\n",
    "#include \"../../lib/everest.hpp\"\n",
    "{\n",
    "    templet::everest_engine teng(\"login\",\"password\");\n",
    "    teng.save_access_token();\n",
    "    if (teng) { string token; teng.get_access_token(token); std::cout << token;}\n",
    "    else {std::cout << \"--- authentication failed ---\";}\n",
    "}"
   ]
  },
  {
   "cell_type": "raw",
   "metadata": {},
   "source": [
    "get Everest application(s) description using access token and application name"
   ]
  },
  {
   "cell_type": "code",
   "execution_count": null,
   "metadata": {},
   "outputs": [],
   "source": [
    "#pragma cling load(\"libcurl\")\n",
    "#include \"../../lib/everest.hpp\"\n",
    "{\n",
    "    templet::everest_engine teng(\"access-token\");\n",
    "    teng.print_app_description(\"application-name\");\n",
    "}"
   ]
  },
  {
   "cell_type": "raw",
   "metadata": {},
   "source": [
    "compile 'pingpong.cpp' file"
   ]
  },
  {
   "cell_type": "code",
   "execution_count": null,
   "metadata": {},
   "outputs": [],
   "source": [
    "!g++ pingpong.cpp -l curl -I ~/lib -o pingpong"
   ]
  },
  {
   "cell_type": "raw",
   "metadata": {},
   "source": [
    "run pingpong sample"
   ]
  },
  {
   "cell_type": "code",
   "execution_count": null,
   "metadata": {},
   "outputs": [],
   "source": [
    "!./pingpong"
   ]
  },
  {
   "cell_type": "markdown",
   "metadata": {},
   "source": [
    "How to setup the new Everest echo application\n",
    "---------------------------------------------\n",
    "1. Enter Name and Alias on the Metadata tab.\n",
    "2. Enter input-string:string and output-string:string on the Parameters tab.\n",
    "3. For Windows: enter the Command: 'cmd.exe /c echo ECHO:${input-string} > out.txt', when enter the Output Mappings: output-string --> out.txt on the Configuration tab.\n",
    "4. Select a resource to run your application (it should be a Windows machine).\n",
    "     \n",
    "See the page http://everest.distcomp.org/docs/tutorial/#_adding_applications for details."
   ]
  }
 ],
 "metadata": {
  "kernelspec": {
   "display_name": "Python 3 (ipykernel)",
   "language": "python",
   "name": "python3"
  },
  "language_info": {
   "codemirror_mode": {
    "name": "ipython",
    "version": 3
   },
   "file_extension": ".py",
   "mimetype": "text/x-python",
   "name": "python",
   "nbconvert_exporter": "python",
   "pygments_lexer": "ipython3",
   "version": "3.10.9"
  }
 },
 "nbformat": 4,
 "nbformat_minor": 4
}
